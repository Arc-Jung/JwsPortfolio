{
 "cells": [
  {
   "cell_type": "code",
   "execution_count": 1,
   "metadata": {},
   "outputs": [],
   "source": [
    "import pandas as pd"
   ]
  },
  {
   "cell_type": "code",
   "execution_count": 2,
   "metadata": {},
   "outputs": [],
   "source": [
    "df =pd.read_excel(\"2012.xlsx\", encoding ='utf-8')"
   ]
  },
  {
   "cell_type": "code",
   "execution_count": 3,
   "metadata": {},
   "outputs": [
    {
     "data": {
      "text/plain": [
       "Index(['기준연도', '기준월', '법정동코드', '시도', '시군구', '읍면', '동리', '특수지코드', '본번', '부번',\n",
       "       '특수지명', '단지명', '동명', '전용면적', '층', '공시가격'],\n",
       "      dtype='object')"
      ]
     },
     "execution_count": 3,
     "metadata": {},
     "output_type": "execute_result"
    }
   ],
   "source": [
    "df.columns"
   ]
  },
  {
   "cell_type": "code",
   "execution_count": 4,
   "metadata": {},
   "outputs": [
    {
     "data": {
      "text/plain": [
       "노원구     170885\n",
       "은평구     102382\n",
       "성북구      92227\n",
       "도봉구      86781\n",
       "마포구      82190\n",
       "강북구      64196\n",
       "중랑구      62716\n",
       "서대문구     60528\n",
       "동대문구     59647\n",
       "성동구      58812\n",
       "양천구      57650\n",
       "광진구      51828\n",
       "용산구      48715\n",
       "종로구      26998\n",
       "중구       23020\n",
       "Name: 시군구, dtype: int64"
      ]
     },
     "execution_count": 4,
     "metadata": {},
     "output_type": "execute_result"
    }
   ],
   "source": [
    "df['시군구'].value_counts()"
   ]
  },
  {
   "cell_type": "code",
   "execution_count": 6,
   "metadata": {},
   "outputs": [],
   "source": [
    "df = df[df['시군구'] == '중구']"
   ]
  },
  {
   "cell_type": "code",
   "execution_count": 7,
   "metadata": {},
   "outputs": [],
   "source": [
    "df = df [['법정동코드','전용면적','층','공시가격']]"
   ]
  },
  {
   "cell_type": "code",
   "execution_count": 8,
   "metadata": {},
   "outputs": [],
   "source": [
    "df = df.reset_index()"
   ]
  },
  {
   "cell_type": "code",
   "execution_count": 9,
   "metadata": {},
   "outputs": [
    {
     "data": {
      "text/plain": [
       "Index(['index', '법정동코드', '전용면적', '층', '공시가격'], dtype='object')"
      ]
     },
     "execution_count": 9,
     "metadata": {},
     "output_type": "execute_result"
    }
   ],
   "source": [
    "df.columns"
   ]
  },
  {
   "cell_type": "code",
   "execution_count": 10,
   "metadata": {},
   "outputs": [
    {
     "data": {
      "text/html": [
       "<div>\n",
       "<style scoped>\n",
       "    .dataframe tbody tr th:only-of-type {\n",
       "        vertical-align: middle;\n",
       "    }\n",
       "\n",
       "    .dataframe tbody tr th {\n",
       "        vertical-align: top;\n",
       "    }\n",
       "\n",
       "    .dataframe thead th {\n",
       "        text-align: right;\n",
       "    }\n",
       "</style>\n",
       "<table border=\"1\" class=\"dataframe\">\n",
       "  <thead>\n",
       "    <tr style=\"text-align: right;\">\n",
       "      <th></th>\n",
       "      <th>index</th>\n",
       "      <th>법정동코드</th>\n",
       "      <th>전용면적</th>\n",
       "      <th>층</th>\n",
       "      <th>공시가격</th>\n",
       "    </tr>\n",
       "  </thead>\n",
       "  <tbody>\n",
       "    <tr>\n",
       "      <th>0</th>\n",
       "      <td>26998</td>\n",
       "      <td>1114011200</td>\n",
       "      <td>304.82</td>\n",
       "      <td>1</td>\n",
       "      <td>422000000</td>\n",
       "    </tr>\n",
       "    <tr>\n",
       "      <th>1</th>\n",
       "      <td>26999</td>\n",
       "      <td>1114011200</td>\n",
       "      <td>147.54</td>\n",
       "      <td>3</td>\n",
       "      <td>215000000</td>\n",
       "    </tr>\n",
       "    <tr>\n",
       "      <th>2</th>\n",
       "      <td>27000</td>\n",
       "      <td>1114011200</td>\n",
       "      <td>44.36</td>\n",
       "      <td>2</td>\n",
       "      <td>129000000</td>\n",
       "    </tr>\n",
       "    <tr>\n",
       "      <th>3</th>\n",
       "      <td>27001</td>\n",
       "      <td>1114011200</td>\n",
       "      <td>50.59</td>\n",
       "      <td>2</td>\n",
       "      <td>148000000</td>\n",
       "    </tr>\n",
       "    <tr>\n",
       "      <th>4</th>\n",
       "      <td>27002</td>\n",
       "      <td>1114011200</td>\n",
       "      <td>62.52</td>\n",
       "      <td>2</td>\n",
       "      <td>182000000</td>\n",
       "    </tr>\n",
       "    <tr>\n",
       "      <th>5</th>\n",
       "      <td>27003</td>\n",
       "      <td>1114011200</td>\n",
       "      <td>44.36</td>\n",
       "      <td>3</td>\n",
       "      <td>129000000</td>\n",
       "    </tr>\n",
       "    <tr>\n",
       "      <th>6</th>\n",
       "      <td>27004</td>\n",
       "      <td>1114011200</td>\n",
       "      <td>50.59</td>\n",
       "      <td>3</td>\n",
       "      <td>148000000</td>\n",
       "    </tr>\n",
       "    <tr>\n",
       "      <th>7</th>\n",
       "      <td>27005</td>\n",
       "      <td>1114011200</td>\n",
       "      <td>62.52</td>\n",
       "      <td>3</td>\n",
       "      <td>182000000</td>\n",
       "    </tr>\n",
       "    <tr>\n",
       "      <th>8</th>\n",
       "      <td>27006</td>\n",
       "      <td>1114011200</td>\n",
       "      <td>44.36</td>\n",
       "      <td>4</td>\n",
       "      <td>129000000</td>\n",
       "    </tr>\n",
       "    <tr>\n",
       "      <th>9</th>\n",
       "      <td>27007</td>\n",
       "      <td>1114011200</td>\n",
       "      <td>50.97</td>\n",
       "      <td>4</td>\n",
       "      <td>148000000</td>\n",
       "    </tr>\n",
       "    <tr>\n",
       "      <th>10</th>\n",
       "      <td>27008</td>\n",
       "      <td>1114011200</td>\n",
       "      <td>59.21</td>\n",
       "      <td>4</td>\n",
       "      <td>172000000</td>\n",
       "    </tr>\n",
       "    <tr>\n",
       "      <th>11</th>\n",
       "      <td>27009</td>\n",
       "      <td>1114011200</td>\n",
       "      <td>66.25</td>\n",
       "      <td>5</td>\n",
       "      <td>183000000</td>\n",
       "    </tr>\n",
       "    <tr>\n",
       "      <th>12</th>\n",
       "      <td>27010</td>\n",
       "      <td>1114011200</td>\n",
       "      <td>65.17</td>\n",
       "      <td>5</td>\n",
       "      <td>180000000</td>\n",
       "    </tr>\n",
       "    <tr>\n",
       "      <th>13</th>\n",
       "      <td>27011</td>\n",
       "      <td>1114011200</td>\n",
       "      <td>50.15</td>\n",
       "      <td>1</td>\n",
       "      <td>100000000</td>\n",
       "    </tr>\n",
       "    <tr>\n",
       "      <th>14</th>\n",
       "      <td>27012</td>\n",
       "      <td>1114011200</td>\n",
       "      <td>56.11</td>\n",
       "      <td>1</td>\n",
       "      <td>112000000</td>\n",
       "    </tr>\n",
       "    <tr>\n",
       "      <th>15</th>\n",
       "      <td>27013</td>\n",
       "      <td>1114011200</td>\n",
       "      <td>87.97</td>\n",
       "      <td>1</td>\n",
       "      <td>170000000</td>\n",
       "    </tr>\n",
       "    <tr>\n",
       "      <th>16</th>\n",
       "      <td>27014</td>\n",
       "      <td>1114011200</td>\n",
       "      <td>50.15</td>\n",
       "      <td>2</td>\n",
       "      <td>105000000</td>\n",
       "    </tr>\n",
       "    <tr>\n",
       "      <th>17</th>\n",
       "      <td>27015</td>\n",
       "      <td>1114011200</td>\n",
       "      <td>56.11</td>\n",
       "      <td>2</td>\n",
       "      <td>117000000</td>\n",
       "    </tr>\n",
       "    <tr>\n",
       "      <th>18</th>\n",
       "      <td>27016</td>\n",
       "      <td>1114011200</td>\n",
       "      <td>55.80</td>\n",
       "      <td>2</td>\n",
       "      <td>129000000</td>\n",
       "    </tr>\n",
       "    <tr>\n",
       "      <th>19</th>\n",
       "      <td>27017</td>\n",
       "      <td>1114011200</td>\n",
       "      <td>60.52</td>\n",
       "      <td>2</td>\n",
       "      <td>110000000</td>\n",
       "    </tr>\n",
       "    <tr>\n",
       "      <th>20</th>\n",
       "      <td>27018</td>\n",
       "      <td>1114011200</td>\n",
       "      <td>35.85</td>\n",
       "      <td>2</td>\n",
       "      <td>73000000</td>\n",
       "    </tr>\n",
       "    <tr>\n",
       "      <th>21</th>\n",
       "      <td>27019</td>\n",
       "      <td>1114011200</td>\n",
       "      <td>29.70</td>\n",
       "      <td>2</td>\n",
       "      <td>58000000</td>\n",
       "    </tr>\n",
       "    <tr>\n",
       "      <th>22</th>\n",
       "      <td>27020</td>\n",
       "      <td>1114011200</td>\n",
       "      <td>50.15</td>\n",
       "      <td>3</td>\n",
       "      <td>120000000</td>\n",
       "    </tr>\n",
       "    <tr>\n",
       "      <th>23</th>\n",
       "      <td>27021</td>\n",
       "      <td>1114011200</td>\n",
       "      <td>56.11</td>\n",
       "      <td>3</td>\n",
       "      <td>133000000</td>\n",
       "    </tr>\n",
       "    <tr>\n",
       "      <th>24</th>\n",
       "      <td>27022</td>\n",
       "      <td>1114011200</td>\n",
       "      <td>55.80</td>\n",
       "      <td>3</td>\n",
       "      <td>133000000</td>\n",
       "    </tr>\n",
       "    <tr>\n",
       "      <th>25</th>\n",
       "      <td>27023</td>\n",
       "      <td>1114011200</td>\n",
       "      <td>60.52</td>\n",
       "      <td>3</td>\n",
       "      <td>142000000</td>\n",
       "    </tr>\n",
       "    <tr>\n",
       "      <th>26</th>\n",
       "      <td>27024</td>\n",
       "      <td>1114011200</td>\n",
       "      <td>35.85</td>\n",
       "      <td>3</td>\n",
       "      <td>88000000</td>\n",
       "    </tr>\n",
       "    <tr>\n",
       "      <th>27</th>\n",
       "      <td>27025</td>\n",
       "      <td>1114011200</td>\n",
       "      <td>29.70</td>\n",
       "      <td>3</td>\n",
       "      <td>71000000</td>\n",
       "    </tr>\n",
       "    <tr>\n",
       "      <th>28</th>\n",
       "      <td>27026</td>\n",
       "      <td>1114011200</td>\n",
       "      <td>50.15</td>\n",
       "      <td>4</td>\n",
       "      <td>122000000</td>\n",
       "    </tr>\n",
       "    <tr>\n",
       "      <th>29</th>\n",
       "      <td>27027</td>\n",
       "      <td>1114011200</td>\n",
       "      <td>56.11</td>\n",
       "      <td>4</td>\n",
       "      <td>136000000</td>\n",
       "    </tr>\n",
       "    <tr>\n",
       "      <th>...</th>\n",
       "      <td>...</td>\n",
       "      <td>...</td>\n",
       "      <td>...</td>\n",
       "      <td>...</td>\n",
       "      <td>...</td>\n",
       "    </tr>\n",
       "    <tr>\n",
       "      <th>22990</th>\n",
       "      <td>49988</td>\n",
       "      <td>1114017400</td>\n",
       "      <td>83.81</td>\n",
       "      <td>-1</td>\n",
       "      <td>244000000</td>\n",
       "    </tr>\n",
       "    <tr>\n",
       "      <th>22991</th>\n",
       "      <td>49989</td>\n",
       "      <td>1114017400</td>\n",
       "      <td>84.63</td>\n",
       "      <td>-1</td>\n",
       "      <td>246000000</td>\n",
       "    </tr>\n",
       "    <tr>\n",
       "      <th>22992</th>\n",
       "      <td>49990</td>\n",
       "      <td>1114017400</td>\n",
       "      <td>84.51</td>\n",
       "      <td>-1</td>\n",
       "      <td>245000000</td>\n",
       "    </tr>\n",
       "    <tr>\n",
       "      <th>22993</th>\n",
       "      <td>49991</td>\n",
       "      <td>1114017400</td>\n",
       "      <td>61.08</td>\n",
       "      <td>2</td>\n",
       "      <td>371000000</td>\n",
       "    </tr>\n",
       "    <tr>\n",
       "      <th>22994</th>\n",
       "      <td>49992</td>\n",
       "      <td>1114017400</td>\n",
       "      <td>63.82</td>\n",
       "      <td>2</td>\n",
       "      <td>388000000</td>\n",
       "    </tr>\n",
       "    <tr>\n",
       "      <th>22995</th>\n",
       "      <td>49993</td>\n",
       "      <td>1114017400</td>\n",
       "      <td>66.57</td>\n",
       "      <td>2</td>\n",
       "      <td>404000000</td>\n",
       "    </tr>\n",
       "    <tr>\n",
       "      <th>22996</th>\n",
       "      <td>49994</td>\n",
       "      <td>1114017400</td>\n",
       "      <td>61.08</td>\n",
       "      <td>3</td>\n",
       "      <td>371000000</td>\n",
       "    </tr>\n",
       "    <tr>\n",
       "      <th>22997</th>\n",
       "      <td>49995</td>\n",
       "      <td>1114017400</td>\n",
       "      <td>63.82</td>\n",
       "      <td>3</td>\n",
       "      <td>388000000</td>\n",
       "    </tr>\n",
       "    <tr>\n",
       "      <th>22998</th>\n",
       "      <td>49996</td>\n",
       "      <td>1114017400</td>\n",
       "      <td>66.57</td>\n",
       "      <td>3</td>\n",
       "      <td>404000000</td>\n",
       "    </tr>\n",
       "    <tr>\n",
       "      <th>22999</th>\n",
       "      <td>49997</td>\n",
       "      <td>1114017400</td>\n",
       "      <td>61.08</td>\n",
       "      <td>4</td>\n",
       "      <td>371000000</td>\n",
       "    </tr>\n",
       "    <tr>\n",
       "      <th>23000</th>\n",
       "      <td>49998</td>\n",
       "      <td>1114017400</td>\n",
       "      <td>63.82</td>\n",
       "      <td>4</td>\n",
       "      <td>388000000</td>\n",
       "    </tr>\n",
       "    <tr>\n",
       "      <th>23001</th>\n",
       "      <td>49999</td>\n",
       "      <td>1114017400</td>\n",
       "      <td>66.57</td>\n",
       "      <td>4</td>\n",
       "      <td>404000000</td>\n",
       "    </tr>\n",
       "    <tr>\n",
       "      <th>23002</th>\n",
       "      <td>50000</td>\n",
       "      <td>1114017400</td>\n",
       "      <td>62.08</td>\n",
       "      <td>2</td>\n",
       "      <td>316000000</td>\n",
       "    </tr>\n",
       "    <tr>\n",
       "      <th>23003</th>\n",
       "      <td>50001</td>\n",
       "      <td>1114017400</td>\n",
       "      <td>57.12</td>\n",
       "      <td>2</td>\n",
       "      <td>291000000</td>\n",
       "    </tr>\n",
       "    <tr>\n",
       "      <th>23004</th>\n",
       "      <td>50002</td>\n",
       "      <td>1114017400</td>\n",
       "      <td>61.05</td>\n",
       "      <td>2</td>\n",
       "      <td>311000000</td>\n",
       "    </tr>\n",
       "    <tr>\n",
       "      <th>23005</th>\n",
       "      <td>50003</td>\n",
       "      <td>1114017400</td>\n",
       "      <td>62.08</td>\n",
       "      <td>3</td>\n",
       "      <td>316000000</td>\n",
       "    </tr>\n",
       "    <tr>\n",
       "      <th>23006</th>\n",
       "      <td>50004</td>\n",
       "      <td>1114017400</td>\n",
       "      <td>57.12</td>\n",
       "      <td>3</td>\n",
       "      <td>291000000</td>\n",
       "    </tr>\n",
       "    <tr>\n",
       "      <th>23007</th>\n",
       "      <td>50005</td>\n",
       "      <td>1114017400</td>\n",
       "      <td>61.05</td>\n",
       "      <td>3</td>\n",
       "      <td>311000000</td>\n",
       "    </tr>\n",
       "    <tr>\n",
       "      <th>23008</th>\n",
       "      <td>50006</td>\n",
       "      <td>1114017400</td>\n",
       "      <td>62.08</td>\n",
       "      <td>4</td>\n",
       "      <td>316000000</td>\n",
       "    </tr>\n",
       "    <tr>\n",
       "      <th>23009</th>\n",
       "      <td>50007</td>\n",
       "      <td>1114017400</td>\n",
       "      <td>57.12</td>\n",
       "      <td>4</td>\n",
       "      <td>291000000</td>\n",
       "    </tr>\n",
       "    <tr>\n",
       "      <th>23010</th>\n",
       "      <td>50008</td>\n",
       "      <td>1114017400</td>\n",
       "      <td>61.05</td>\n",
       "      <td>4</td>\n",
       "      <td>311000000</td>\n",
       "    </tr>\n",
       "    <tr>\n",
       "      <th>23011</th>\n",
       "      <td>50009</td>\n",
       "      <td>1114017400</td>\n",
       "      <td>62.08</td>\n",
       "      <td>2</td>\n",
       "      <td>300000000</td>\n",
       "    </tr>\n",
       "    <tr>\n",
       "      <th>23012</th>\n",
       "      <td>50010</td>\n",
       "      <td>1114017400</td>\n",
       "      <td>57.12</td>\n",
       "      <td>2</td>\n",
       "      <td>276000000</td>\n",
       "    </tr>\n",
       "    <tr>\n",
       "      <th>23013</th>\n",
       "      <td>50011</td>\n",
       "      <td>1114017400</td>\n",
       "      <td>61.05</td>\n",
       "      <td>2</td>\n",
       "      <td>318000000</td>\n",
       "    </tr>\n",
       "    <tr>\n",
       "      <th>23014</th>\n",
       "      <td>50012</td>\n",
       "      <td>1114017400</td>\n",
       "      <td>62.08</td>\n",
       "      <td>3</td>\n",
       "      <td>300000000</td>\n",
       "    </tr>\n",
       "    <tr>\n",
       "      <th>23015</th>\n",
       "      <td>50013</td>\n",
       "      <td>1114017400</td>\n",
       "      <td>57.12</td>\n",
       "      <td>3</td>\n",
       "      <td>276000000</td>\n",
       "    </tr>\n",
       "    <tr>\n",
       "      <th>23016</th>\n",
       "      <td>50014</td>\n",
       "      <td>1114017400</td>\n",
       "      <td>61.05</td>\n",
       "      <td>3</td>\n",
       "      <td>296000000</td>\n",
       "    </tr>\n",
       "    <tr>\n",
       "      <th>23017</th>\n",
       "      <td>50015</td>\n",
       "      <td>1114017400</td>\n",
       "      <td>62.08</td>\n",
       "      <td>4</td>\n",
       "      <td>300000000</td>\n",
       "    </tr>\n",
       "    <tr>\n",
       "      <th>23018</th>\n",
       "      <td>50016</td>\n",
       "      <td>1114017400</td>\n",
       "      <td>57.12</td>\n",
       "      <td>4</td>\n",
       "      <td>276000000</td>\n",
       "    </tr>\n",
       "    <tr>\n",
       "      <th>23019</th>\n",
       "      <td>50017</td>\n",
       "      <td>1114017400</td>\n",
       "      <td>61.05</td>\n",
       "      <td>4</td>\n",
       "      <td>296000000</td>\n",
       "    </tr>\n",
       "  </tbody>\n",
       "</table>\n",
       "<p>23020 rows × 5 columns</p>\n",
       "</div>"
      ],
      "text/plain": [
       "       index       법정동코드    전용면적  층       공시가격\n",
       "0      26998  1114011200  304.82  1  422000000\n",
       "1      26999  1114011200  147.54  3  215000000\n",
       "2      27000  1114011200   44.36  2  129000000\n",
       "3      27001  1114011200   50.59  2  148000000\n",
       "4      27002  1114011200   62.52  2  182000000\n",
       "5      27003  1114011200   44.36  3  129000000\n",
       "6      27004  1114011200   50.59  3  148000000\n",
       "7      27005  1114011200   62.52  3  182000000\n",
       "8      27006  1114011200   44.36  4  129000000\n",
       "9      27007  1114011200   50.97  4  148000000\n",
       "10     27008  1114011200   59.21  4  172000000\n",
       "11     27009  1114011200   66.25  5  183000000\n",
       "12     27010  1114011200   65.17  5  180000000\n",
       "13     27011  1114011200   50.15  1  100000000\n",
       "14     27012  1114011200   56.11  1  112000000\n",
       "15     27013  1114011200   87.97  1  170000000\n",
       "16     27014  1114011200   50.15  2  105000000\n",
       "17     27015  1114011200   56.11  2  117000000\n",
       "18     27016  1114011200   55.80  2  129000000\n",
       "19     27017  1114011200   60.52  2  110000000\n",
       "20     27018  1114011200   35.85  2   73000000\n",
       "21     27019  1114011200   29.70  2   58000000\n",
       "22     27020  1114011200   50.15  3  120000000\n",
       "23     27021  1114011200   56.11  3  133000000\n",
       "24     27022  1114011200   55.80  3  133000000\n",
       "25     27023  1114011200   60.52  3  142000000\n",
       "26     27024  1114011200   35.85  3   88000000\n",
       "27     27025  1114011200   29.70  3   71000000\n",
       "28     27026  1114011200   50.15  4  122000000\n",
       "29     27027  1114011200   56.11  4  136000000\n",
       "...      ...         ...     ... ..        ...\n",
       "22990  49988  1114017400   83.81 -1  244000000\n",
       "22991  49989  1114017400   84.63 -1  246000000\n",
       "22992  49990  1114017400   84.51 -1  245000000\n",
       "22993  49991  1114017400   61.08  2  371000000\n",
       "22994  49992  1114017400   63.82  2  388000000\n",
       "22995  49993  1114017400   66.57  2  404000000\n",
       "22996  49994  1114017400   61.08  3  371000000\n",
       "22997  49995  1114017400   63.82  3  388000000\n",
       "22998  49996  1114017400   66.57  3  404000000\n",
       "22999  49997  1114017400   61.08  4  371000000\n",
       "23000  49998  1114017400   63.82  4  388000000\n",
       "23001  49999  1114017400   66.57  4  404000000\n",
       "23002  50000  1114017400   62.08  2  316000000\n",
       "23003  50001  1114017400   57.12  2  291000000\n",
       "23004  50002  1114017400   61.05  2  311000000\n",
       "23005  50003  1114017400   62.08  3  316000000\n",
       "23006  50004  1114017400   57.12  3  291000000\n",
       "23007  50005  1114017400   61.05  3  311000000\n",
       "23008  50006  1114017400   62.08  4  316000000\n",
       "23009  50007  1114017400   57.12  4  291000000\n",
       "23010  50008  1114017400   61.05  4  311000000\n",
       "23011  50009  1114017400   62.08  2  300000000\n",
       "23012  50010  1114017400   57.12  2  276000000\n",
       "23013  50011  1114017400   61.05  2  318000000\n",
       "23014  50012  1114017400   62.08  3  300000000\n",
       "23015  50013  1114017400   57.12  3  276000000\n",
       "23016  50014  1114017400   61.05  3  296000000\n",
       "23017  50015  1114017400   62.08  4  300000000\n",
       "23018  50016  1114017400   57.12  4  276000000\n",
       "23019  50017  1114017400   61.05  4  296000000\n",
       "\n",
       "[23020 rows x 5 columns]"
      ]
     },
     "execution_count": 10,
     "metadata": {},
     "output_type": "execute_result"
    }
   ],
   "source": [
    "df"
   ]
  },
  {
   "cell_type": "code",
   "execution_count": 11,
   "metadata": {},
   "outputs": [],
   "source": [
    "features=['법정동코드', '전용면적', '층']"
   ]
  },
  {
   "cell_type": "code",
   "execution_count": 12,
   "metadata": {},
   "outputs": [],
   "source": [
    "X = df[features]"
   ]
  },
  {
   "cell_type": "code",
   "execution_count": 17,
   "metadata": {},
   "outputs": [],
   "source": [
    "y = df['공시가격']"
   ]
  },
  {
   "cell_type": "code",
   "execution_count": 18,
   "metadata": {},
   "outputs": [],
   "source": [
    "from sklearn.tree import DecisionTreeRegressor"
   ]
  },
  {
   "cell_type": "code",
   "execution_count": 23,
   "metadata": {},
   "outputs": [],
   "source": [
    "model = DecisionTreeRegressor(random_state=1)"
   ]
  },
  {
   "cell_type": "code",
   "execution_count": 24,
   "metadata": {},
   "outputs": [
    {
     "data": {
      "text/plain": [
       "DecisionTreeRegressor(criterion='mse', max_depth=None, max_features=None,\n",
       "           max_leaf_nodes=None, min_impurity_decrease=0.0,\n",
       "           min_impurity_split=None, min_samples_leaf=1,\n",
       "           min_samples_split=2, min_weight_fraction_leaf=0.0,\n",
       "           presort=False, random_state=1, splitter='best')"
      ]
     },
     "execution_count": 24,
     "metadata": {},
     "output_type": "execute_result"
    }
   ],
   "source": [
    "model.fit(X,y)"
   ]
  },
  {
   "cell_type": "code",
   "execution_count": 30,
   "metadata": {},
   "outputs": [
    {
     "data": {
      "text/plain": [
       "array([4.220e+08, 2.150e+08, 1.290e+08, ..., 3.080e+08, 2.835e+08,\n",
       "       3.035e+08])"
      ]
     },
     "execution_count": 30,
     "metadata": {},
     "output_type": "execute_result"
    }
   ],
   "source": [
    "model.predict(X)"
   ]
  },
  {
   "cell_type": "code",
   "execution_count": 31,
   "metadata": {},
   "outputs": [],
   "source": [
    "from sklearn.model_selection import train_test_split"
   ]
  },
  {
   "cell_type": "code",
   "execution_count": 33,
   "metadata": {},
   "outputs": [],
   "source": [
    "X_train, X_test, y_train, y_test = train_test_split(X, y, random_state=0)"
   ]
  },
  {
   "cell_type": "code",
   "execution_count": 40,
   "metadata": {},
   "outputs": [
    {
     "data": {
      "text/plain": [
       "DecisionTreeRegressor(criterion='mse', max_depth=None, max_features=None,\n",
       "           max_leaf_nodes=None, min_impurity_decrease=0.0,\n",
       "           min_impurity_split=None, min_samples_leaf=1,\n",
       "           min_samples_split=2, min_weight_fraction_leaf=0.0,\n",
       "           presort=False, random_state=1, splitter='best')"
      ]
     },
     "execution_count": 40,
     "metadata": {},
     "output_type": "execute_result"
    }
   ],
   "source": [
    "model.fit(X_train, y_train)"
   ]
  },
  {
   "cell_type": "code",
   "execution_count": 41,
   "metadata": {},
   "outputs": [
    {
     "data": {
      "text/plain": [
       "array([1.35000000e+08, 6.01658537e+08, 7.48500000e+08, ...,\n",
       "       2.19696970e+08, 2.58500000e+08, 3.86000000e+08])"
      ]
     },
     "execution_count": 41,
     "metadata": {},
     "output_type": "execute_result"
    }
   ],
   "source": [
    "model.predict(X_test)"
   ]
  },
  {
   "cell_type": "code",
   "execution_count": 42,
   "metadata": {},
   "outputs": [
    {
     "data": {
      "text/plain": [
       "0.9733169333225311"
      ]
     },
     "execution_count": 42,
     "metadata": {},
     "output_type": "execute_result"
    }
   ],
   "source": [
    "model.score(X_test, y_test)"
   ]
  },
  {
   "cell_type": "code",
   "execution_count": 43,
   "metadata": {},
   "outputs": [
    {
     "data": {
      "text/plain": [
       "array([3.11e+08])"
      ]
     },
     "execution_count": 43,
     "metadata": {},
     "output_type": "execute_result"
    }
   ],
   "source": [
    "model.predict([[1114017400,61.05,4]])"
   ]
  },
  {
   "cell_type": "code",
   "execution_count": 44,
   "metadata": {},
   "outputs": [
    {
     "data": {
      "text/plain": [
       "pandas.core.frame.DataFrame"
      ]
     },
     "execution_count": 44,
     "metadata": {},
     "output_type": "execute_result"
    }
   ],
   "source": [
    "type(X_train)"
   ]
  },
  {
   "cell_type": "code",
   "execution_count": 50,
   "metadata": {},
   "outputs": [
    {
     "data": {
      "text/plain": [
       "311000000.0"
      ]
     },
     "execution_count": 50,
     "metadata": {},
     "output_type": "execute_result"
    }
   ],
   "source": [
    "float(model.predict([[1114017400,61.05,4]]))"
   ]
  },
  {
   "cell_type": "code",
   "execution_count": 52,
   "metadata": {},
   "outputs": [],
   "source": [
    "from sklearn.linear_model import LinearRegression"
   ]
  },
  {
   "cell_type": "markdown",
   "metadata": {},
   "source": [
    "dfa"
   ]
  },
  {
   "cell_type": "code",
   "execution_count": 54,
   "metadata": {},
   "outputs": [],
   "source": [
    "model = LinearRegression()"
   ]
  },
  {
   "cell_type": "code",
   "execution_count": 55,
   "metadata": {},
   "outputs": [
    {
     "data": {
      "text/plain": [
       "LinearRegression(copy_X=True, fit_intercept=True, n_jobs=None,\n",
       "         normalize=False)"
      ]
     },
     "execution_count": 55,
     "metadata": {},
     "output_type": "execute_result"
    }
   ],
   "source": [
    "model.fit(X_train, y_train)"
   ]
  },
  {
   "cell_type": "code",
   "execution_count": 56,
   "metadata": {},
   "outputs": [
    {
     "data": {
      "text/plain": [
       "array([1.89550299e+08, 5.39244724e+08, 7.28419925e+08, ...,\n",
       "       1.70008535e+08, 2.21917837e+08, 5.12016636e+08])"
      ]
     },
     "execution_count": 56,
     "metadata": {},
     "output_type": "execute_result"
    }
   ],
   "source": [
    "model.predict(X_test)"
   ]
  },
  {
   "cell_type": "code",
   "execution_count": 57,
   "metadata": {},
   "outputs": [
    {
     "data": {
      "text/html": [
       "<div>\n",
       "<style scoped>\n",
       "    .dataframe tbody tr th:only-of-type {\n",
       "        vertical-align: middle;\n",
       "    }\n",
       "\n",
       "    .dataframe tbody tr th {\n",
       "        vertical-align: top;\n",
       "    }\n",
       "\n",
       "    .dataframe thead th {\n",
       "        text-align: right;\n",
       "    }\n",
       "</style>\n",
       "<table border=\"1\" class=\"dataframe\">\n",
       "  <thead>\n",
       "    <tr style=\"text-align: right;\">\n",
       "      <th></th>\n",
       "      <th>index</th>\n",
       "      <th>법정동코드</th>\n",
       "      <th>전용면적</th>\n",
       "      <th>층</th>\n",
       "      <th>공시가격</th>\n",
       "    </tr>\n",
       "  </thead>\n",
       "  <tbody>\n",
       "    <tr>\n",
       "      <th>count</th>\n",
       "      <td>23020.000000</td>\n",
       "      <td>2.302000e+04</td>\n",
       "      <td>23020.000000</td>\n",
       "      <td>23020.000000</td>\n",
       "      <td>2.302000e+04</td>\n",
       "    </tr>\n",
       "    <tr>\n",
       "      <th>mean</th>\n",
       "      <td>38507.500000</td>\n",
       "      <td>1.114016e+09</td>\n",
       "      <td>75.215462</td>\n",
       "      <td>8.009557</td>\n",
       "      <td>2.882297e+08</td>\n",
       "    </tr>\n",
       "    <tr>\n",
       "      <th>std</th>\n",
       "      <td>6645.445934</td>\n",
       "      <td>1.356157e+03</td>\n",
       "      <td>34.615431</td>\n",
       "      <td>7.400368</td>\n",
       "      <td>2.155386e+08</td>\n",
       "    </tr>\n",
       "    <tr>\n",
       "      <th>min</th>\n",
       "      <td>26998.000000</td>\n",
       "      <td>1.114011e+09</td>\n",
       "      <td>7.320000</td>\n",
       "      <td>-2.000000</td>\n",
       "      <td>7.600000e+06</td>\n",
       "    </tr>\n",
       "    <tr>\n",
       "      <th>25%</th>\n",
       "      <td>32752.750000</td>\n",
       "      <td>1.114016e+09</td>\n",
       "      <td>54.510000</td>\n",
       "      <td>2.000000</td>\n",
       "      <td>1.180000e+08</td>\n",
       "    </tr>\n",
       "    <tr>\n",
       "      <th>50%</th>\n",
       "      <td>38507.500000</td>\n",
       "      <td>1.114016e+09</td>\n",
       "      <td>69.425000</td>\n",
       "      <td>5.000000</td>\n",
       "      <td>2.460000e+08</td>\n",
       "    </tr>\n",
       "    <tr>\n",
       "      <th>75%</th>\n",
       "      <td>44262.250000</td>\n",
       "      <td>1.114016e+09</td>\n",
       "      <td>84.960000</td>\n",
       "      <td>12.000000</td>\n",
       "      <td>4.190000e+08</td>\n",
       "    </tr>\n",
       "    <tr>\n",
       "      <th>max</th>\n",
       "      <td>50017.000000</td>\n",
       "      <td>1.114017e+09</td>\n",
       "      <td>304.820000</td>\n",
       "      <td>37.000000</td>\n",
       "      <td>2.000000e+09</td>\n",
       "    </tr>\n",
       "  </tbody>\n",
       "</table>\n",
       "</div>"
      ],
      "text/plain": [
       "              index         법정동코드          전용면적             층          공시가격\n",
       "count  23020.000000  2.302000e+04  23020.000000  23020.000000  2.302000e+04\n",
       "mean   38507.500000  1.114016e+09     75.215462      8.009557  2.882297e+08\n",
       "std     6645.445934  1.356157e+03     34.615431      7.400368  2.155386e+08\n",
       "min    26998.000000  1.114011e+09      7.320000     -2.000000  7.600000e+06\n",
       "25%    32752.750000  1.114016e+09     54.510000      2.000000  1.180000e+08\n",
       "50%    38507.500000  1.114016e+09     69.425000      5.000000  2.460000e+08\n",
       "75%    44262.250000  1.114016e+09     84.960000     12.000000  4.190000e+08\n",
       "max    50017.000000  1.114017e+09    304.820000     37.000000  2.000000e+09"
      ]
     },
     "execution_count": 57,
     "metadata": {},
     "output_type": "execute_result"
    }
   ],
   "source": [
    "df.describe()"
   ]
  },
  {
   "cell_type": "code",
   "execution_count": 61,
   "metadata": {},
   "outputs": [
    {
     "data": {
      "text/plain": [
       "288229695.91659427"
      ]
     },
     "execution_count": 61,
     "metadata": {},
     "output_type": "execute_result"
    }
   ],
   "source": [
    "df['공시가격'].mean()"
   ]
  },
  {
   "cell_type": "code",
   "execution_count": 62,
   "metadata": {},
   "outputs": [],
   "source": [
    "mean = int(df['공시가격'].mean())"
   ]
  },
  {
   "cell_type": "code",
   "execution_count": 63,
   "metadata": {},
   "outputs": [],
   "source": [
    "df['구분'] = df['공시가격'].apply(lambda x :1 if x > mean else 0 )"
   ]
  },
  {
   "cell_type": "code",
   "execution_count": 64,
   "metadata": {},
   "outputs": [
    {
     "data": {
      "text/plain": [
       "0    13732\n",
       "1     9288\n",
       "Name: 구분, dtype: int64"
      ]
     },
     "execution_count": 64,
     "metadata": {},
     "output_type": "execute_result"
    }
   ],
   "source": [
    "df['구분'].value_counts()"
   ]
  },
  {
   "cell_type": "code",
   "execution_count": 65,
   "metadata": {},
   "outputs": [],
   "source": [
    "from sklearn.neighbors import KNeighborsClassifier"
   ]
  },
  {
   "cell_type": "code",
   "execution_count": 66,
   "metadata": {},
   "outputs": [],
   "source": [
    "features=['법정동코드', '전용면적', '층']"
   ]
  },
  {
   "cell_type": "code",
   "execution_count": 67,
   "metadata": {},
   "outputs": [],
   "source": [
    "from sklearn.datasets import make_blobs"
   ]
  },
  {
   "cell_type": "code",
   "execution_count": 69,
   "metadata": {},
   "outputs": [],
   "source": [
    "from sklearn.cluster import KMeans"
   ]
  },
  {
   "cell_type": "code",
   "execution_count": 70,
   "metadata": {},
   "outputs": [],
   "source": [
    "X2, y2 = make_blobs(random_state=1)"
   ]
  },
  {
   "cell_type": "code",
   "execution_count": 71,
   "metadata": {},
   "outputs": [],
   "source": [
    "kmeans=KMeans(n_clusters=3)"
   ]
  },
  {
   "cell_type": "code",
   "execution_count": 75,
   "metadata": {},
   "outputs": [
    {
     "data": {
      "text/plain": [
       "KMeans(algorithm='auto', copy_x=True, init='k-means++', max_iter=300,\n",
       "    n_clusters=3, n_init=10, n_jobs=None, precompute_distances='auto',\n",
       "    random_state=None, tol=0.0001, verbose=0)"
      ]
     },
     "execution_count": 75,
     "metadata": {},
     "output_type": "execute_result"
    }
   ],
   "source": [
    "kmeans.fit(X2)"
   ]
  },
  {
   "cell_type": "code",
   "execution_count": null,
   "metadata": {},
   "outputs": [],
   "source": []
  }
 ],
 "metadata": {
  "kernelspec": {
   "display_name": "Python 3",
   "language": "python",
   "name": "python3"
  },
  "language_info": {
   "codemirror_mode": {
    "name": "ipython",
    "version": 3
   },
   "file_extension": ".py",
   "mimetype": "text/x-python",
   "name": "python",
   "nbconvert_exporter": "python",
   "pygments_lexer": "ipython3",
   "version": "3.7.3"
  }
 },
 "nbformat": 4,
 "nbformat_minor": 2
}
